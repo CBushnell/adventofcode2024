{
 "cells": [
  {
   "cell_type": "code",
   "execution_count": 308,
   "metadata": {},
   "outputs": [],
   "source": [
    "import numpy as np\n",
    "from functools import cache\n",
    "from collections import Counter"
   ]
  },
  {
   "cell_type": "code",
   "execution_count": null,
   "metadata": {},
   "outputs": [
    {
     "data": {
      "text/plain": [
       "[7568, 155731, 0, 972, 1, 6919238, 80646, 22]"
      ]
     },
     "execution_count": 309,
     "metadata": {},
     "output_type": "execute_result"
    }
   ],
   "source": [
    "input = None\n",
    "with open(\"input.txt\", 'r') as f:\n",
    "    input = [int(i) for i in f.read().split(\" \")]\n",
    "input"
   ]
  },
  {
   "cell_type": "markdown",
   "metadata": {},
   "source": [
    "\n",
    "    If the stone is engraved with the number 0, it is replaced by a stone engraved with the number 1.\n",
    "    If the stone is engraved with a number that has an even number of digits, it is replaced by two stones. The left half of the digits are engraved on the new left stone, and the right half of the digits are engraved on the new right stone. (The new numbers don't keep extra leading zeroes: 1000 would become stones 10 and 0.)\n",
    "    If none of the other rules apply, the stone is replaced by a new stone; the old stone's number multiplied by 2024 is engraved on the new stone.\n"
   ]
  },
  {
   "cell_type": "code",
   "execution_count": 310,
   "metadata": {},
   "outputs": [],
   "source": [
    "def look_at_rocks(input, blinks):\n",
    "    num_counter = Counter(input)\n",
    "    for blink in range(1, blinks+1):\n",
    "        curr_counter = Counter()\n",
    "        for x in num_counter.keys():\n",
    "            x_counter = Counter(transform_number(x))\n",
    "            for x_i in x_counter.keys():\n",
    "                x_counter[x_i] = x_counter[x_i] * num_counter[x]\n",
    "            curr_counter.update(x_counter)\n",
    "        num_counter = curr_counter\n",
    "    return num_counter\n",
    "\n",
    "@cache\n",
    "def transform_number(x):\n",
    "    if x == 0:\n",
    "        return [1]\n",
    "    elif len(str(x)) % 2 == 0:\n",
    "        return [int(str(x)[:len(str(x))//2]), int(str(x)[len(str(x))//2:])]\n",
    "    else:\n",
    "        return [x * 2024]\n",
    "    "
   ]
  },
  {
   "cell_type": "code",
   "execution_count": 311,
   "metadata": {},
   "outputs": [],
   "source": [
    "output = look_at_rocks(input, 75)"
   ]
  },
  {
   "cell_type": "code",
   "execution_count": 312,
   "metadata": {},
   "outputs": [
    {
     "name": "stdout",
     "output_type": "stream",
     "text": [
      "219838428124832\n"
     ]
    }
   ],
   "source": [
    "print(sum(output.values()))"
   ]
  }
 ],
 "metadata": {
  "kernelspec": {
   "display_name": ".venv",
   "language": "python",
   "name": "python3"
  },
  "language_info": {
   "codemirror_mode": {
    "name": "ipython",
    "version": 3
   },
   "file_extension": ".py",
   "mimetype": "text/x-python",
   "name": "python",
   "nbconvert_exporter": "python",
   "pygments_lexer": "ipython3",
   "version": "3.13.0"
  }
 },
 "nbformat": 4,
 "nbformat_minor": 2
}
