{
 "cells": [
  {
   "cell_type": "code",
   "execution_count": 89,
   "metadata": {},
   "outputs": [],
   "source": [
    "import numpy as np\n",
    "import sys\n",
    "np.set_printoptions(threshold=sys.maxsize)"
   ]
  },
  {
   "cell_type": "code",
   "execution_count": null,
   "metadata": {},
   "outputs": [
    {
     "data": {
      "text/plain": [
       "[2, 3, 3, 3, 1, 3, 3, 1, 2, 1, 4, 1, 4, 1, 3, 1, 4, 0, 2]"
      ]
     },
     "execution_count": 92,
     "metadata": {},
     "output_type": "execute_result"
    }
   ],
   "source": [
    "input = None\n",
    "with open(\"input2.txt\", 'r') as f:\n",
    "    input = [int(i) for i in f.read()]\n",
    "input"
   ]
  },
  {
   "cell_type": "code",
   "execution_count": null,
   "metadata": {},
   "outputs": [
    {
     "data": {
      "text/plain": [
       "array([ 0,  0, -1, -1, -1,  1,  1,  1, -1, -1, -1,  2, -1, -1, -1,  3,  3,\n",
       "        3, -1,  4,  4, -1,  5,  5,  5,  5, -1,  6,  6,  6,  6, -1,  7,  7,\n",
       "        7, -1,  8,  8,  8,  8,  9,  9])"
      ]
     },
     "execution_count": 93,
     "metadata": {},
     "output_type": "execute_result"
    }
   ],
   "source": [
    "is_free = False\n",
    "file_index, index_tracker = 0, 0\n",
    "array = np.array([-1] * sum(input))\n",
    "for n in input:\n",
    "    if is_free:\n",
    "        index_tracker += n\n",
    "        is_free = False\n",
    "    else:\n",
    "        array[index_tracker:index_tracker+n] = file_index\n",
    "        index_tracker += n\n",
    "        file_index += 1\n",
    "        is_free = True\n",
    "array"
   ]
  },
  {
   "cell_type": "code",
   "execution_count": 95,
   "metadata": {},
   "outputs": [
    {
     "name": "stdout",
     "output_type": "stream",
     "text": [
      "[9 9 8 8 8 8 7 7 7 6 6 6 6 5]\n"
     ]
    }
   ],
   "source": [
    "mut_array = array.copy()\n",
    "\n",
    "free_spaces = np.where(array == -1)[0]\n",
    "files_to_move = np.flip(np.where(array[free_spaces.min():] != -1)[0] + free_spaces.min())[:len(free_spaces)]\n",
    "# files_to_move\n",
    "print(array[files_to_move])\n",
    "# print(free_spaces)"
   ]
  },
  {
   "cell_type": "code",
   "execution_count": 96,
   "metadata": {},
   "outputs": [
    {
     "data": {
      "text/plain": [
       "array([ 0,  0,  9,  9,  8,  1,  1,  1,  8,  8,  8,  2,  7,  7,  7,  3,  3,\n",
       "        3,  6,  4,  4,  6,  5,  5,  5,  5,  6,  6, -1, -1, -1, -1, -1, -1,\n",
       "       -1, -1, -1, -1, -1, -1, -1, -1])"
      ]
     },
     "execution_count": 96,
     "metadata": {},
     "output_type": "execute_result"
    }
   ],
   "source": [
    "mut_array[free_spaces] = array[files_to_move]\n",
    "mut_array[len(array) - len(free_spaces):] = -1\n",
    "mut_array"
   ]
  },
  {
   "cell_type": "code",
   "execution_count": 97,
   "metadata": {},
   "outputs": [
    {
     "name": "stdout",
     "output_type": "stream",
     "text": [
      "6 -1\n"
     ]
    }
   ],
   "source": [
    "num_files = len(array) - len(free_spaces)\n",
    "print(mut_array[num_files-1], mut_array[num_files])"
   ]
  },
  {
   "cell_type": "code",
   "execution_count": 98,
   "metadata": {},
   "outputs": [
    {
     "data": {
      "text/plain": [
       "np.int64(1928)"
      ]
     },
     "execution_count": 98,
     "metadata": {},
     "output_type": "execute_result"
    }
   ],
   "source": [
    "checksum = np.sum(mut_array[:num_files] * np.arange(num_files))\n",
    "checksum"
   ]
  },
  {
   "cell_type": "code",
   "execution_count": null,
   "metadata": {},
   "outputs": [
    {
     "data": {
      "text/plain": [
       "np.int64(1928)"
      ]
     },
     "metadata": {},
     "output_type": "display_data"
    }
   ],
   "source": [
    "checksum = np.sum(mut_array[:num_files] * np.arange(num_files))\n",
    "checksum"
   ]
  }
 ],
 "metadata": {
  "kernelspec": {
   "display_name": ".venv",
   "language": "python",
   "name": "python3"
  },
  "language_info": {
   "codemirror_mode": {
    "name": "ipython",
    "version": 3
   },
   "file_extension": ".py",
   "mimetype": "text/x-python",
   "name": "python",
   "nbconvert_exporter": "python",
   "pygments_lexer": "ipython3",
   "version": "3.13.0"
  }
 },
 "nbformat": 4,
 "nbformat_minor": 2
}
