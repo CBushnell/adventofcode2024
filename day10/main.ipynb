{
 "cells": [
  {
   "cell_type": "code",
   "execution_count": 76,
   "metadata": {},
   "outputs": [],
   "source": [
    "import numpy as np"
   ]
  },
  {
   "cell_type": "code",
   "execution_count": null,
   "metadata": {},
   "outputs": [],
   "source": [
    "input = []\n",
    "with open(\"/input.txt\", 'r') as f:\n",
    "    raw_input = [l.replace('\\n', '') for l in f.readlines()]\n",
    "    input = [[int(i) for i in l] for l in raw_input]\n",
    "array = np.array(input)\n",
    "# array"
   ]
  },
  {
   "cell_type": "code",
   "execution_count": 78,
   "metadata": {},
   "outputs": [],
   "source": [
    "starting_points = np.argwhere(array == 0)\n",
    "# starting_points"
   ]
  },
  {
   "cell_type": "code",
   "execution_count": 79,
   "metadata": {},
   "outputs": [],
   "source": [
    "def check_directions(array, pos, prev):\n",
    "    y, x = pos[0], pos[1]\n",
    "    if (y >= array.shape[0] or y < 0) or (x >= array.shape[1] or x < 0):\n",
    "        return []\n",
    "    value = array[y, x]\n",
    "    if value == prev + 1:\n",
    "        if value == 9:\n",
    "            return [(y, x)]\n",
    "        return check_directions(array, (y-1, x), value) + check_directions(array, (y, x+1), value) + check_directions(array, (y+1, x), value) + check_directions(array, (y, x-1), value)\n",
    "    return []\n",
    "    \n"
   ]
  },
  {
   "cell_type": "code",
   "execution_count": 80,
   "metadata": {},
   "outputs": [
    {
     "data": {
      "text/plain": [
       "1384"
      ]
     },
     "execution_count": 80,
     "metadata": {},
     "output_type": "execute_result"
    }
   ],
   "source": [
    "sum = 0\n",
    "for pos in starting_points:\n",
    "    curr_paths = check_directions(array, (pos[0], pos[1]), -1)\n",
    "    sum += len(curr_paths)\n",
    "sum\n"
   ]
  }
 ],
 "metadata": {
  "kernelspec": {
   "display_name": ".venv",
   "language": "python",
   "name": "python3"
  },
  "language_info": {
   "codemirror_mode": {
    "name": "ipython",
    "version": 3
   },
   "file_extension": ".py",
   "mimetype": "text/x-python",
   "name": "python",
   "nbconvert_exporter": "python",
   "pygments_lexer": "ipython3",
   "version": "3.13.0"
  }
 },
 "nbformat": 4,
 "nbformat_minor": 2
}
